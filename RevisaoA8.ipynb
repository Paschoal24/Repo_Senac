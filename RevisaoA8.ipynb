{
 "cells": [
  {
   "cell_type": "code",
   "execution_count": 4,
   "metadata": {},
   "outputs": [],
   "source": [
    "def saudacao():\n",
    "    print ('Bem vindo ao Senac')"
   ]
  },
  {
   "cell_type": "code",
   "execution_count": 5,
   "metadata": {},
   "outputs": [
    {
     "name": "stdout",
     "output_type": "stream",
     "text": [
      "Bem vindo ao Senac\n"
     ]
    }
   ],
   "source": [
    "saudacao()"
   ]
  },
  {
   "cell_type": "code",
   "execution_count": 10,
   "metadata": {},
   "outputs": [],
   "source": [
    "def multiplicacao(a,b):\n",
    "    resultado = a * b\n",
    "    print(f'O resultado de {a} * {b} é {resultado}')"
   ]
  },
  {
   "cell_type": "code",
   "execution_count": 22,
   "metadata": {},
   "outputs": [],
   "source": [
    "def divisao(a,b):\n",
    "    resultado = a * b\n",
    "    return resultado"
   ]
  },
  {
   "cell_type": "code",
   "execution_count": 11,
   "metadata": {},
   "outputs": [
    {
     "name": "stdout",
     "output_type": "stream",
     "text": [
      "O resultado de 5 * 3 é 15\n"
     ]
    }
   ],
   "source": [
    "multiplicacao(5,3)"
   ]
  },
  {
   "cell_type": "code",
   "execution_count": null,
   "metadata": {},
   "outputs": [],
   "source": [
    "divisao(10,2)\n"
   ]
  },
  {
   "cell_type": "code",
   "execution_count": null,
   "metadata": {},
   "outputs": [],
   "source": [
    "def situacao_aluno(b1,b2,b3,b4):\n",
    "    media = (b1,b2,b3,b4) / 4\n",
    "    if media >= 7:\n",
    "        print('Aprovado')\n",
    "    elif media >=5 and media <7:\n",
    "        print('Recuperação')\n",
    "    else:\n",
    "        print ('reprovado')\n"
   ]
  },
  {
   "cell_type": "code",
   "execution_count": 28,
   "metadata": {},
   "outputs": [],
   "source": [
    "def situacao_aluno(lista):\n",
    "    media = (sum)(lista) / len(lista)\n",
    "\n",
    "    if media >= 7:\n",
    "        print('Aprovado')\n",
    "    elif media >=5 and media <7:\n",
    "        print('Recuperação')\n",
    "    else:\n",
    "        print ('reprovado')\n"
   ]
  },
  {
   "cell_type": "code",
   "execution_count": 41,
   "metadata": {},
   "outputs": [
    {
     "name": "stdout",
     "output_type": "stream",
     "text": [
      "Aprovado\n"
     ]
    }
   ],
   "source": [
    "joao = [8,9,8,3,9,5]\n",
    "situacao_aluno(joao)"
   ]
  }
 ],
 "metadata": {
  "kernelspec": {
   "display_name": "Python 3",
   "language": "python",
   "name": "python3"
  },
  "language_info": {
   "codemirror_mode": {
    "name": "ipython",
    "version": 3
   },
   "file_extension": ".py",
   "mimetype": "text/x-python",
   "name": "python",
   "nbconvert_exporter": "python",
   "pygments_lexer": "ipython3",
   "version": "3.11.4"
  },
  "orig_nbformat": 4
 },
 "nbformat": 4,
 "nbformat_minor": 2
}
