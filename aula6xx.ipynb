{
 "cells": [
  {
   "cell_type": "code",
   "execution_count": 2,
   "metadata": {},
   "outputs": [
    {
     "name": "stdout",
     "output_type": "stream",
     "text": [
      "{'joao': [10], 'maria': []}\n"
     ]
    }
   ],
   "source": [
    "alunos = {'joao': [], 'maria': []}\n",
    "n1 = 10\n",
    "alunos['joao'].append(n1)\n",
    "print(alunos)"
   ]
  },
  {
   "cell_type": "markdown",
   "metadata": {},
   "source": [
    "Aula 7 \n",
    "função\n"
   ]
  },
  {
   "cell_type": "code",
   "execution_count": 3,
   "metadata": {},
   "outputs": [],
   "source": [
    "def saudacao():\n",
    "    print ('bem vindo ao senac')\n",
    "    "
   ]
  },
  {
   "cell_type": "code",
   "execution_count": 4,
   "metadata": {},
   "outputs": [
    {
     "name": "stdout",
     "output_type": "stream",
     "text": [
      "bem vindo ao senac\n"
     ]
    }
   ],
   "source": [
    "saudacao()"
   ]
  },
  {
   "cell_type": "code",
   "execution_count": 7,
   "metadata": {},
   "outputs": [],
   "source": [
    "def saudacao_parametro(name):\n",
    "    print(f'bem vindo ao Senac, {name}')"
   ]
  },
  {
   "cell_type": "code",
   "execution_count": 8,
   "metadata": {},
   "outputs": [
    {
     "name": "stdout",
     "output_type": "stream",
     "text": [
      "bem vindo ao Senac, naruto\n"
     ]
    }
   ],
   "source": [
    "nome = \"naruto\"\n",
    "saudacao_parametro(nome)"
   ]
  },
  {
   "cell_type": "code",
   "execution_count": 10,
   "metadata": {},
   "outputs": [],
   "source": [
    "def soma(a, b):\n",
    "    return a + b"
   ]
  },
  {
   "cell_type": "code",
   "execution_count": 12,
   "metadata": {},
   "outputs": [
    {
     "name": "stdout",
     "output_type": "stream",
     "text": [
      "8\n"
     ]
    }
   ],
   "source": [
    "resultado = soma(5,3)\n",
    "print(resultado) "
   ]
  },
  {
   "cell_type": "code",
   "execution_count": null,
   "metadata": {},
   "outputs": [],
   "source": [
    "def numeros(a,b,c,d,e):\n",
    "    return(a,b,c,d,e)"
   ]
  },
  {
   "cell_type": "code",
   "execution_count": 16,
   "metadata": {},
   "outputs": [
    {
     "name": "stdout",
     "output_type": "stream",
     "text": [
      "(10, 12, 13, 14, 45)\n"
     ]
    }
   ],
   "source": [
    "resultado= (10,12,13,14,45)\n",
    "print(resultado)"
   ]
  },
  {
   "cell_type": "code",
   "execution_count": 18,
   "metadata": {},
   "outputs": [],
   "source": [
    "def somar(a, b):\n",
    "    return a + b"
   ]
  },
  {
   "cell_type": "code",
   "execution_count": 19,
   "metadata": {},
   "outputs": [
    {
     "name": "stdout",
     "output_type": "stream",
     "text": [
      "Par 1:\n",
      "Soma do par 1: 3\n"
     ]
    }
   ],
   "source": [
    "print(\"Par 1:\")\n",
    "num1 = int(input(\"Digite o primeiro número: \"))\n",
    "num2 = int(input(\"Digite o segundo número: \"))\n",
    "resultado1 = somar(num1, num2)\n",
    "print(f\"Soma do par 1: {resultado1}\")\n"
   ]
  },
  {
   "cell_type": "code",
   "execution_count": 20,
   "metadata": {},
   "outputs": [
    {
     "name": "stdout",
     "output_type": "stream",
     "text": [
      "\n",
      "Par 2:\n",
      "Soma do par 2: 7\n"
     ]
    }
   ],
   "source": [
    "print(\"Par 2:\")\n",
    "num3 = int(input(\"Digite o primeiro número: \"))\n",
    "num4 = int(input(\"Digite o segundo número: \"))\n",
    "resultado2 = somar(num3, num4)\n",
    "print(f\"Soma do par 2: {resultado2}\")"
   ]
  },
  {
   "cell_type": "code",
   "execution_count": 22,
   "metadata": {},
   "outputs": [
    {
     "name": "stdout",
     "output_type": "stream",
     "text": [
      "Par 3:\n",
      "Soma do par 3: 6\n"
     ]
    }
   ],
   "source": [
    "print(\"Par 3:\")\n",
    "num5 = int(input(\"Digite o primeiro número: \"))\n",
    "num6 = int(input(\"Digite o segundo número: \"))\n",
    "resultado3 = somar(num5, num6)\n",
    "print(f\"Soma do par 3: {resultado3}\")"
   ]
  },
  {
   "cell_type": "code",
   "execution_count": 36,
   "metadata": {},
   "outputs": [],
   "source": [
    "def calcular_multa(velocidade_permitida, velocidade_registrada):\n",
    "    if velocidade_registrada <= velocidade_permitida:\n",
    "        return \"Velocidade dentro do limite. Nenhuma multa.\"\n",
    "\n",
    "\n",
    "    percentual_excesso = ((velocidade_registrada - velocidade_permitida) / velocidade_permitida) * 100\n",
    "\n",
    "    if percentual_excesso <= 10:\n",
    "        multa = 180.00\n",
    "        tipo = \"Infração leve\"\n",
    "    elif percentual_excesso <= 30:\n",
    "        multa = 340.56\n",
    "        tipo = \"Infração média\"\n",
    "    else:\n",
    "        multa = 480.98\n",
    "        tipo = \"Infração grave\"\n",
    "\n",
    "    return f\"{tipo}: multa de R${multa:.2f} (Excesso de {percentual_excesso:.2f}%)\"\n"
   ]
  },
  {
   "cell_type": "code",
   "execution_count": 39,
   "metadata": {},
   "outputs": [
    {
     "name": "stdout",
     "output_type": "stream",
     "text": [
      "Infração média: multa de R$340.56 (Excesso de 25.93%)\n"
     ]
    }
   ],
   "source": [
    "\n",
    "permitida = float(input(\"Informe a velocidade permitida (km/h): \"))\n",
    "registrada = float(input(\"Informe a velocidade registrada pelo radar (km/h): \"))\n",
    "\n",
    "resultado = calcular_multa(permitida, registrada)\n",
    "print(resultado)\n",
    "\n"
   ]
  },
  {
   "cell_type": "code",
   "execution_count": 45,
   "metadata": {},
   "outputs": [],
   "source": [
    "def multa (via, passada):\n",
    "    ate_10b = via*1.1\n",
    "    ate_20b = via*1.2\n",
    "    ate_30b = via*1.3\n",
    "    if passada < ate_10b:\n",
    "        print('Sem multa')\n",
    "    elif passada < ate_10b and passada < ate_20b:\n",
    "        print ('leve')\n",
    "    elif passada > ate_20b and passada < ate_30b:\n",
    "        print('Multa media')\n",
    "    elif passada > ate_20b and passada < ate_30b:\n",
    "        print('grave')\n",
    "    else:\n",
    "        print('grave')"
   ]
  },
  {
   "cell_type": "code",
   "execution_count": 48,
   "metadata": {},
   "outputs": [
    {
     "name": "stdout",
     "output_type": "stream",
     "text": [
      "grave\n"
     ]
    }
   ],
   "source": [
    "multa (100,150)\n"
   ]
  },
  {
   "cell_type": "code",
   "execution_count": 2,
   "metadata": {},
   "outputs": [
    {
     "name": "stdout",
     "output_type": "stream",
     "text": [
      "Sua TMB é: 1118.95 calorias por dia.\n"
     ]
    }
   ],
   "source": [
    "def calcular_tmb(sexo, peso, altura, idade):\n",
    "    if sexo == 'masculino':\n",
    "        return 66.5 + (13.75 * peso) + (5.003 * altura) - (6.755 * idade)\n",
    "    elif sexo == 'feminino':\n",
    "        return 655.1 + (9.563 * peso) + (1.850 * altura) - (4.676 * idade)\n",
    "\n",
    "\n",
    "sexo = input(\"Sexo (masculino/feminino): \")\n",
    "peso = float(input(\"Peso (kg): \"))\n",
    "altura = float(input(\"Altura (cm): \"))\n",
    "idade = int(input(\"Idade (anos): \"))\n",
    "\n",
    "tmb = calcular_tmb(sexo, peso, altura, idade)\n",
    "print(f\"Sua TMB é: {tmb:.2f} calorias por dia.\")\n"
   ]
  },
  {
   "cell_type": "code",
   "execution_count": 4,
   "metadata": {},
   "outputs": [],
   "source": [
    "cardapio = {\n",
    "    \"Sushi\": 30.00,\n",
    "    \"Sashimi\": 35.00,\n",
    "    \"Temaki\": 25.00,\n",
    "    \"Yakissoba\": 28.00,\n",
    "    \"Refrigerante\": 6.00\n",
    "}\n"
   ]
  },
  {
   "cell_type": "code",
   "execution_count": 7,
   "metadata": {},
   "outputs": [],
   "source": [
    "pedidos= []\n",
    "num_pedido_atual= 1\n"
   ]
  },
  {
   "cell_type": "code",
   "execution_count": null,
   "metadata": {},
   "outputs": [],
   "source": [
    "def_exibir_cardapio():\n"
   ]
  },
  {
   "cell_type": "code",
   "execution_count": null,
   "metadata": {},
   "outputs": [],
   "source": []
  }
 ],
 "metadata": {
  "kernelspec": {
   "display_name": "Python 3",
   "language": "python",
   "name": "python3"
  },
  "language_info": {
   "codemirror_mode": {
    "name": "ipython",
    "version": 3
   },
   "file_extension": ".py",
   "mimetype": "text/x-python",
   "name": "python",
   "nbconvert_exporter": "python",
   "pygments_lexer": "ipython3",
   "version": "3.11.4"
  },
  "orig_nbformat": 4
 },
 "nbformat": 4,
 "nbformat_minor": 2
}
