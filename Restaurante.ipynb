{
 "cells": [
  {
   "cell_type": "code",
   "execution_count": null,
   "metadata": {},
   "outputs": [],
   "source": [
    "def exibir_cardapio():\n",
    "    print(\"1 - Sushi: R$30\")\n",
    "    print(\"2 - Sashimi: R$35\")\n",
    "    print(\"3 - Temaki: R$25\")\n",
    "    print(\"4 - Yakissoba: R$28\")\n",
    "    print(\"5 - Refrigerante: R$6\")"
   ]
  },
  {
   "cell_type": "code",
   "execution_count": 8,
   "metadata": {},
   "outputs": [],
   "source": [
    "def registrar_pedidos():\n",
    "    mesa = input(\"numero da mesa: \")\n",
    "    garcom = input(\"numero do garcom: \")\n",
    "    itens = input (\"Itens (separados por virgula): \") "
   ]
  },
  {
   "cell_type": "code",
   "execution_count": 9,
   "metadata": {},
   "outputs": [
    {
     "ename": "NameError",
     "evalue": "name 'itens' is not defined",
     "output_type": "error",
     "traceback": [
      "\u001b[31m---------------------------------------------------------------------------\u001b[39m",
      "\u001b[31mNameError\u001b[39m                                 Traceback (most recent call last)",
      "\u001b[36mCell\u001b[39m\u001b[36m \u001b[39m\u001b[32mIn[9]\u001b[39m\u001b[32m, line 2\u001b[39m\n\u001b[32m      1\u001b[39m total = \u001b[32m0\u001b[39m\n\u001b[32m----> \u001b[39m\u001b[32m2\u001b[39m \u001b[38;5;28;01mfor\u001b[39;00m item \u001b[38;5;129;01min\u001b[39;00m \u001b[43mitens\u001b[49m.split(\u001b[33m\"\u001b[39m\u001b[33m,\u001b[39m\u001b[33m\"\u001b[39m):\n\u001b[32m      3\u001b[39m         item = item.strip()\n\u001b[32m      4\u001b[39m \u001b[38;5;28;01mif\u001b[39;00m item == \u001b[33m\"\u001b[39m\u001b[33mSushi\u001b[39m\u001b[33m\"\u001b[39m:\n",
      "\u001b[31mNameError\u001b[39m: name 'itens' is not defined"
     ]
    }
   ],
   "source": [
    "'''total = 0\n",
    "for item in itens.split(\",\"):\n",
    "        item = item.strip()\n",
    "if item == \"Sushi\":\n",
    "    total += 30\n",
    "elif item == \"Sashimi\":\n",
    "    total += 35\n",
    "elif item == \"Temaki\":\n",
    "    total += 25\n",
    "elif item == \"Yakissoba\":\n",
    "    total += 28\n",
    "elif item == \"refrigerante\":\n",
    "    total += 6\n",
    "\n",
    "    print(\"Pedido registrado!\")\n",
    "    print(\"Número do pedido: 1\")\n",
    "    return mesa, garcom, itens, total'''"
   ]
  },
  {
   "cell_type": "code",
   "execution_count": 6,
   "metadata": {},
   "outputs": [],
   "source": [
    "def fechar_conta(mesa, garcom, itens, total):\n",
    "    print(\"CONTA\")\n",
    "    print(\"Mesa:\", mesa)\n",
    "    print(\"Garçom:\", garcom)\n",
    "    print(\"Itens:\", itens)\n",
    "    print(\"Total: R$\", total)"
   ]
  }
 ],
 "metadata": {
  "kernelspec": {
   "display_name": "Python 3",
   "language": "python",
   "name": "python3"
  },
  "language_info": {
   "codemirror_mode": {
    "name": "ipython",
    "version": 3
   },
   "file_extension": ".py",
   "mimetype": "text/x-python",
   "name": "python",
   "nbconvert_exporter": "python",
   "pygments_lexer": "ipython3",
   "version": "3.11.4"
  },
  "orig_nbformat": 4
 },
 "nbformat": 4,
 "nbformat_minor": 2
}
