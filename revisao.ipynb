{
 "cells": [
  {
   "cell_type": "code",
   "execution_count": 12,
   "metadata": {},
   "outputs": [],
   "source": [
    "nome = 'joão'"
   ]
  },
  {
   "cell_type": "code",
   "execution_count": 13,
   "metadata": {},
   "outputs": [
    {
     "name": "stdout",
     "output_type": "stream",
     "text": [
      "joão\n"
     ]
    }
   ],
   "source": [
    "print(nome)"
   ]
  },
  {
   "cell_type": "markdown",
   "metadata": {},
   "source": [
    "\n",
    "\n",
    "Analista de dado- senac rj\n",
    "\n",
    "Aula 5\n",
    "\n",
    "Revisão completa"
   ]
  },
  {
   "cell_type": "code",
   "execution_count": null,
   "metadata": {},
   "outputs": [],
   "source": []
  },
  {
   "cell_type": "code",
   "execution_count": 15,
   "metadata": {},
   "outputs": [
    {
     "name": "stdout",
     "output_type": "stream",
     "text": [
      "50\n"
     ]
    }
   ],
   "source": [
    "num1= 20\n",
    "num2= 30\n",
    "resultado = num1 + num2\n",
    "print(resultado)"
   ]
  },
  {
   "cell_type": "code",
   "execution_count": 16,
   "metadata": {},
   "outputs": [
    {
     "name": "stdout",
     "output_type": "stream",
     "text": [
      "O resultado de 20 + 30 é 50\n"
     ]
    }
   ],
   "source": [
    "print (f'O resultado de {num1} + {num2} é {resultado}')"
   ]
  },
  {
   "cell_type": "code",
   "execution_count": 22,
   "metadata": {},
   "outputs": [
    {
     "name": "stdout",
     "output_type": "stream",
     "text": [
      "30\n"
     ]
    }
   ],
   "source": [
    "num3 = int(input('digite o primeiro numero: '))\n",
    "num4 = int(input('Digite o segundo numero: '))\n",
    "resultado2 = num3 + num4\n",
    "print(resultado2)"
   ]
  },
  {
   "cell_type": "code",
   "execution_count": 25,
   "metadata": {},
   "outputs": [
    {
     "name": "stdout",
     "output_type": "stream",
     "text": [
      "Aprovado\n"
     ]
    }
   ],
   "source": [
    "b1 = 8.5\n",
    "b2 = 7.5\n",
    "b3 = 8.9\n",
    "b4 = 7.8\n",
    "\n",
    "media = (b1+b2+b3+b4)/ 4\n",
    "\n",
    "if media >= 7:\n",
    "    print('Aprovado')\n",
    "elif media >= 5 and media <7:\n",
    "    print ('Recuperação')\n",
    "else:\n",
    "    print('Reprovado')"
   ]
  },
  {
   "cell_type": "code",
   "execution_count": 27,
   "metadata": {},
   "outputs": [
    {
     "name": "stdout",
     "output_type": "stream",
     "text": [
      "10\n"
     ]
    }
   ],
   "source": [
    "num3 = int(input('digite o primeiro numero: '))\n",
    "print(num3)"
   ]
  },
  {
   "cell_type": "code",
   "execution_count": 31,
   "metadata": {},
   "outputs": [],
   "source": [
    "try:\n",
    "    num3 = int(input('digite o primeiro numero: '))\n",
    "except:\n",
    "    print('Digite um numero válido: ')\n",
    "    "
   ]
  },
  {
   "cell_type": "code",
   "execution_count": 1,
   "metadata": {},
   "outputs": [
    {
     "name": "stdout",
     "output_type": "stream",
     "text": [
      "Digite um numero válido: \n"
     ]
    }
   ],
   "source": [
    "while True: \n",
    "    try:\n",
    "        num3 = int(input('digite o primeiro numero: '))\n",
    "        break\n",
    "    except:\n",
    "        print('Digite um numero válido: ')\n",
    "    \n",
    "    "
   ]
  },
  {
   "cell_type": "code",
   "execution_count": 34,
   "metadata": {},
   "outputs": [
    {
     "name": "stdout",
     "output_type": "stream",
     "text": [
      "0\n",
      "1\n",
      "2\n",
      "3\n",
      "4\n",
      "5\n"
     ]
    }
   ],
   "source": [
    "contador = 0\n",
    "\n",
    "while contador <= 5:\n",
    "    print (contador)\n",
    "    contador += 1\n"
   ]
  },
  {
   "cell_type": "code",
   "execution_count": 37,
   "metadata": {},
   "outputs": [
    {
     "name": "stdout",
     "output_type": "stream",
     "text": [
      "5\n",
      "7\n",
      "9\n"
     ]
    }
   ],
   "source": [
    "for i in range(5, 11, 2):\n",
    "    print(i)"
   ]
  },
  {
   "cell_type": "code",
   "execution_count": 41,
   "metadata": {},
   "outputs": [
    {
     "name": "stdout",
     "output_type": "stream",
     "text": [
      "<class 'tuple'>\n"
     ]
    }
   ],
   "source": [
    "produtos = ('Fogão' , 'Geladeira')\n",
    "tipo_dado = type(produtos)\n",
    "print (tipo_dado)"
   ]
  },
  {
   "cell_type": "code",
   "execution_count": 71,
   "metadata": {},
   "outputs": [
    {
     "name": "stdout",
     "output_type": "stream",
     "text": [
      "2\n"
     ]
    }
   ],
   "source": [
    "produtos = ['Fogão' , 'Geladeira']\n",
    "preco = [600, 2500]\n",
    "tipo_dado = type(produtos)\n",
    "print(len(preco))"
   ]
  },
  {
   "cell_type": "code",
   "execution_count": 68,
   "metadata": {},
   "outputs": [
    {
     "name": "stdout",
     "output_type": "stream",
     "text": [
      "O produto Fogão custa R$ 600\n",
      "O produto Geladeira custa R$ 2500\n"
     ]
    }
   ],
   "source": [
    "for i in range(len(produtos)):\n",
    "    print(f'O produto {produtos[i]} custa R$ {preco[i]}')\n"
   ]
  },
  {
   "cell_type": "code",
   "execution_count": 62,
   "metadata": {},
   "outputs": [
    {
     "name": "stdout",
     "output_type": "stream",
     "text": [
      "Geladeira\n"
     ]
    }
   ],
   "source": [
    "produtos = ['Fogão' , 'Geladeira']\n",
    "preco = [600, 2500]\n",
    "tipo_dado = type(produtos)\n",
    "print (produtos[1])"
   ]
  },
  {
   "cell_type": "code",
   "execution_count": 82,
   "metadata": {},
   "outputs": [
    {
     "name": "stdout",
     "output_type": "stream",
     "text": [
      "['maçã', 'Queijo', 'Goiaba', 'ovo', 'coca']\n"
     ]
    }
   ],
   "source": [
    "lista = ['chocolate', 'maçã', 'ovo', 'sabão', 'ovo', 'coca']\n",
    "lista[3] = 'Goiaba'\n",
    "lista.insert (2, 'Queijo')\n",
    "lista.remove('ovo')\n",
    "lista.pop(0)\n",
    "print(lista)"
   ]
  },
  {
   "cell_type": "markdown",
   "metadata": {},
   "source": [
    "Trabalhando com variáveis\n",
    "\n",
    "°  Crie variáveis para armazenar nome,idade e cidade.\n",
    "\n",
    "°  Exiba essas informações usando print."
   ]
  },
  {
   "cell_type": "code",
   "execution_count": 87,
   "metadata": {},
   "outputs": [
    {
     "name": "stdout",
     "output_type": "stream",
     "text": [
      "Felipe 18 Rj\n"
     ]
    }
   ],
   "source": [
    "nome = 'Felipe'\n",
    "idade = 18\n",
    "cidade = 'Rj'\n",
    "print(nome, idade, cidade)"
   ]
  },
  {
   "cell_type": "markdown",
   "metadata": {},
   "source": [
    "Decisões com if\n",
    "\n",
    "° Peça ao usuário uma idade.\n",
    "\n",
    "°Verifique se ele é maior de idade e exiba uma mensagem correspondente."
   ]
  },
  {
   "cell_type": "code",
   "execution_count": 6,
   "metadata": {},
   "outputs": [
    {
     "name": "stdout",
     "output_type": "stream",
     "text": [
      "Você é de menor!\n"
     ]
    }
   ],
   "source": [
    "while True:\n",
    "    try:\n",
    "        idade = int(input('Digite sua idade: '))\n",
    "       \n",
    "        if idade <= 18:\n",
    "            print('Você é de menor!')\n",
    "        else:\n",
    "            print('Você é maior de idade!')\n",
    "        break\n",
    "    except:\n",
    "        print('Digite novamente a idade: ')"
   ]
  },
  {
   "cell_type": "markdown",
   "metadata": {},
   "source": [
    "Laço for básico\n",
    "\n",
    "° Exiba os números de 1 a 10 usando for.\n",
    "\n",
    "°  Exiba apenas os pares."
   ]
  },
  {
   "cell_type": "code",
   "execution_count": 8,
   "metadata": {},
   "outputs": [
    {
     "name": "stdout",
     "output_type": "stream",
     "text": [
      "0\n",
      "2\n",
      "4\n",
      "6\n",
      "8\n",
      "10\n"
     ]
    }
   ],
   "source": [
    "for i in range(0,11,2):\n",
    " print(i)"
   ]
  },
  {
   "cell_type": "markdown",
   "metadata": {},
   "source": [
    "Laço while básico\n",
    "\n",
    "° Crie um contador que vai de 0 a 5 usando while.\n",
    "\n",
    "° Exiba cada valor."
   ]
  },
  {
   "cell_type": "code",
   "execution_count": 11,
   "metadata": {},
   "outputs": [
    {
     "name": "stdout",
     "output_type": "stream",
     "text": [
      "0\n",
      "1\n",
      "2\n",
      "3\n",
      "4\n",
      "5\n"
     ]
    }
   ],
   "source": [
    "contador = 0\n",
    "while contador <=5:\n",
    "    print(contador)\n",
    "    contador +=1"
   ]
  },
  {
   "cell_type": "markdown",
   "metadata": {},
   "source": [
    "Introdução às Listas\n",
    "\n",
    "° Crie uma lista com 5 frutas.\n",
    "\n",
    "° Exiba a lista completa.\n",
    "\n",
    "° Mostre apenas a primeira e a última fruta."
   ]
  },
  {
   "cell_type": "code",
   "execution_count": 19,
   "metadata": {},
   "outputs": [
    {
     "name": "stdout",
     "output_type": "stream",
     "text": [
      "['uva', 'mamão', 'abacate', 'peira', 'abacaxi']\n",
      "A primeira fruta é uva e a ultima é abacaxi!\n"
     ]
    }
   ],
   "source": [
    "lista_frutas= ['uva', 'mamão', 'abacate', 'peira', 'abacaxi']\n",
    "tipo_dado = type(lista_frutas)\n",
    "print(lista_frutas)\n",
    "print(f'A primeira fruta é {lista_frutas[0]} e a ultima é {lista_frutas[4]}!')"
   ]
  },
  {
   "cell_type": "markdown",
   "metadata": {},
   "source": [
    "Modificando Listas\n",
    "\n",
    "° Adicione uma fruta à lista.\n",
    "\n",
    "° Remova uma fruta da lista.\n",
    "\n",
    "° Substitua uma fruta por outra."
   ]
  },
  {
   "cell_type": "code",
   "execution_count": 24,
   "metadata": {},
   "outputs": [
    {
     "name": "stdout",
     "output_type": "stream",
     "text": [
      "['pessego', 'abacate', 'morango']\n"
     ]
    }
   ],
   "source": [
    "lista= ['abacate', 'uva', 'morango']\n",
    "lista.insert (0, 'pessego')\n",
    "lista.remove ('uva')\n",
    "lista.\n",
    "print(lista)\n"
   ]
  },
  {
   "cell_type": "markdown",
   "metadata": {},
   "source": [
    "Listas e Laços\n",
    "\n",
    "° Crie uma lista com 5 nomes.\n",
    "\n",
    "\n",
    "° Use for para exibir cada nome com uma saudação."
   ]
  },
  {
   "cell_type": "code",
   "execution_count": 39,
   "metadata": {},
   "outputs": [
    {
     "name": "stdout",
     "output_type": "stream",
     "text": [
      "Olá Pedro\n",
      "Olá Joaquim\n",
      "Olá Paulo\n",
      "Olá Thiago\n",
      "Olá Lucas\n"
     ]
    }
   ],
   "source": [
    "lista= ['Pedro', 'Joaquim', 'Paulo','Thiago', 'Lucas']\n",
    "for i in range(0,5):\n",
    "    print(f'Olá {lista[i]}')"
   ]
  },
  {
   "cell_type": "markdown",
   "metadata": {},
   "source": [
    "Listas e Decisão\n",
    "\n",
    "° Crie uma lista com idades.\n",
    "\n",
    "° Use for e if para exibir quem é maior de idade."
   ]
  },
  {
   "cell_type": "code",
   "execution_count": 48,
   "metadata": {},
   "outputs": [
    {
     "ename": "TypeError",
     "evalue": "'<=' not supported between instances of 'str' and 'int'",
     "output_type": "error",
     "traceback": [
      "\u001b[31m---------------------------------------------------------------------------\u001b[39m",
      "\u001b[31mTypeError\u001b[39m                                 Traceback (most recent call last)",
      "\u001b[36mCell\u001b[39m\u001b[36m \u001b[39m\u001b[32mIn[48]\u001b[39m\u001b[32m, line 2\u001b[39m\n\u001b[32m      1\u001b[39m lista = [\u001b[32m12\u001b[39m, \u001b[32m13\u001b[39m, \u001b[32m18\u001b[39m, \u001b[32m19\u001b[39m, \u001b[32m20\u001b[39m]\n\u001b[32m----> \u001b[39m\u001b[32m2\u001b[39m \u001b[38;5;28;01mif\u001b[39;00m \u001b[43midade\u001b[49m\u001b[43m<\u001b[49m\u001b[43m=\u001b[49m\u001b[43m \u001b[49m\u001b[32;43m18\u001b[39;49m:\n\u001b[32m      3\u001b[39m     \u001b[38;5;28mprint\u001b[39m(\u001b[33m'\u001b[39m\u001b[33mMenor de idade\u001b[39m\u001b[33m'\u001b[39m)\n",
      "\u001b[31mTypeError\u001b[39m: '<=' not supported between instances of 'str' and 'int'"
     ]
    }
   ],
   "source": [
    "\n",
    "lista = [12, 13, 18, 19, 20]\n",
    "if idade<= 18:\n",
    "    print('Menor de idade')"
   ]
  },
  {
   "cell_type": "markdown",
   "metadata": {},
   "source": [
    "Cadastro Simples\n",
    "\n",
    "° Crie uma lista vazia.\n",
    "\n",
    "° Peça 3 nomes ao usuário e adicione à lista.\n",
    "\n",
    "° Exiba a lista final."
   ]
  },
  {
   "cell_type": "code",
   "execution_count": 49,
   "metadata": {},
   "outputs": [
    {
     "name": "stdout",
     "output_type": "stream",
     "text": [
      "{'lucas'} {'pedro'} {'joao'}\n"
     ]
    }
   ],
   "source": [
    "lista =[]\n",
    "nome1= (input('digite seu nome: '))\n",
    "nome2= (input('digite seu nome: '))\n",
    "nome3= (input('digite seu nome: '))\n",
    "print({nome1}, {nome2}, {nome3})"
   ]
  }
 ],
 "metadata": {
  "kernelspec": {
   "display_name": "Python 3",
   "language": "python",
   "name": "python3"
  },
  "language_info": {
   "codemirror_mode": {
    "name": "ipython",
    "version": 3
   },
   "file_extension": ".py",
   "mimetype": "text/x-python",
   "name": "python",
   "nbconvert_exporter": "python",
   "pygments_lexer": "ipython3",
   "version": "3.11.4"
  },
  "orig_nbformat": 4
 },
 "nbformat": 4,
 "nbformat_minor": 2
}
